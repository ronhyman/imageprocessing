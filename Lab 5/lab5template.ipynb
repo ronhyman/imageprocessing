{
 "cells": [
  {
   "cell_type": "code",
   "execution_count": null,
   "id": "d7e72064-2df4-4b51-aa9d-32b05bf36cb2",
   "metadata": {},
   "outputs": [],
   "source": [
    "from skimage.color import rgb2ycbcr, rgb2lab, rgb2gray\n",
    "from skimage.io import imread\n",
    "import matplotlib.pyplot as plt\n",
    "import numpy as np\n",
    "from sklearn.cluster import KMeans\n",
    "\n",
    "from scipy.fftpack import dct\n",
    "from skimage.metrics import peak_signal_noise_ratio as PSNR\n",
    "\n",
    "def sub2ind(n_row, row, col):\n",
    "  return n_row * col + row\n",
    "\n",
    "def dctmtx(N):\n",
    "  return dct(np.eye(N), norm='ortho', axis=0)\n",
    "\n",
    "def func(x, mat):\n",
    "  return mat @ x @ mat.T\n",
    "\n",
    "def func1(x, mat):\n",
    "  return np.multiply(mat, x)\n",
    "\n",
    "def blockproc(im, mat, block_sz, func):\n",
    "    h, w = im.shape\n",
    "    m, n = block_sz\n",
    "    im_out = np.zeros_like(im)\n",
    "    for x in range(0, h, m):\n",
    "        for y in range(0, w, n):\n",
    "            block = im[x:x+m, y:y+n]\n",
    "            im_out[x:x+m, y:y+n] = func(block, mat)\n",
    "    return im_out"
   ]
  },
  {
   "cell_type": "markdown",
   "metadata": {},
   "source": [
    "# Part 2 Chroma Subsampling"
   ]
  },
  {
   "cell_type": "code",
   "execution_count": null,
   "metadata": {},
   "outputs": [],
   "source": [
    "# code for chroma subsampling\n",
    "# First, we will study the effects of chroma subsampling on image quality and how it can be used to provide\n",
    "# image compression. For this study, we will use the peppers image. \n",
    "\n",
    "# First, let us convert the image from the RGB colorspace into the YCbCr colorspace using the rgb2ycbcr function from skimage.color. \n",
    "\n",
    "# Plot each of the image channels (Y, Cb, and Cr) separately.\n",
    "\n",
    "# Now, reduce the resolution of the chroma channels by a factor of 2 in both the horizontal and vertical\n",
    "# directions and then upsample them back to the original resolution using bilinear interpolation.\n",
    "\n",
    "# Separate the color image into three separate images so you can operate on them independently.\n",
    "\n",
    "# Recombine the original Y channel image and the two upsampled Cb and Cr images to create a new color image\n",
    "\n",
    "# Reduce the resolution of the luma (Y) channel by a factor\n",
    "# of 2 in both the horizontal and vertical directions and then upsample it back to the original resolution using\n",
    "# bilinear interpolation. \n",
    "\n",
    "# Recombine the upsampled Y channel image and the original Cb and Cr images to create a new color image."
   ]
  },
  {
   "cell_type": "markdown",
   "metadata": {},
   "source": [
    "# Part 3 Colour Segmentation"
   ]
  },
  {
   "cell_type": "code",
   "execution_count": null,
   "metadata": {},
   "outputs": [],
   "source": [
    "# part 3 Colour Segmentation\n",
    "\n",
    "# 1. convert the image to the lab colorspace\n",
    "# 2. use kmeans to cluster the image into 2 and 4 clusters\n",
    "# 3. display the clustered image\n",
    "# 4. display the cluster centers\n",
    "# 5. display the segmented image\n",
    "# 6. display the segmented image with the cluster centers\n",
    "# 7. display the segmented image with the cluster centers and the original image\n",
    "\n",
    "# I am not sure if the above instructions are correct. Please check and correct them if necessary."
   ]
  },
  {
   "cell_type": "markdown",
   "metadata": {},
   "source": [
    "# Part 4 Image Transform"
   ]
  },
  {
   "cell_type": "code",
   "execution_count": null,
   "metadata": {},
   "outputs": [],
   "source": [
    "# Part 4 Image Transform\n",
    "\n",
    "# In this part, we will perform an image transform using the Discrete Cosine Transform (DCT).\n",
    "# The DCT is a widely used transform in image and video compression.\n",
    "\n",
    "# 1. Load the image using the imread() function from the skimage.io module.\n",
    "# 2. Convert the image to grayscale using the rgb2gray() function from the skimage.color module.\n",
    "# 3. Apply the DCT to the grayscale image using the dct() function from the scipy.fftpack module.\n",
    "#    Set the `norm` parameter to 'ortho' and the `axis` parameter to 0.\n",
    "# 4. Calculate the magnitude spectrum of the DCT coefficients using the np.abs() function.\n",
    "# 5. Display the magnitude spectrum using the plt.imshow() function from the matplotlib.pyplot module.\n",
    "# 6. Apply a threshold to the magnitude spectrum to remove low-frequency components.\n",
    "#    Set a threshold value based on your observation of the magnitude spectrum.\n",
    "# 7. Set the low-frequency components to zero in the DCT coefficients.\n",
    "# 8. Apply the inverse DCT to the modified DCT coefficients using the idct() function from the scipy.fftpack module.\n",
    "#    Set the `norm` parameter to 'ortho' and the `axis` parameter to 0.\n",
    "# 9. Display the reconstructed image using the plt.imshow() function.\n",
    "# 10. Calculate the Peak Signal-to-Noise Ratio (PSNR) between the original and reconstructed images\n",
    "#     using the PSNR() function from the skimage.metrics module.\n",
    "#     Print the PSNR value to evaluate the quality of the reconstructed image.\n",
    "\n",
    "# Make sure to import the necessary modules and functions before executing the code.\n",
    "\n",
    "# not sure if the above instructions are correct. Please check and correct them if necessary."
   ]
  },
  {
   "cell_type": "markdown",
   "metadata": {},
   "source": [
    "# Part 5 Quantization "
   ]
  },
  {
   "cell_type": "code",
   "execution_count": null,
   "metadata": {},
   "outputs": [],
   "source": [
    "# Part 5 Quantization\n",
    "\n",
    "# In this part, we will perform quantization on the image using a quantization table.\n",
    "# The quantization table is a matrix that determines the level of compression applied to different frequency components of the image.\n",
    "\n",
    "# 1. Load the image using the imread() function from the skimage.io module.\n",
    "# 2. Convert the image to grayscale using the rgb2gray() function from the skimage.color module.\n",
    "# 3. Apply the DCT to the grayscale image using the dct() function from the scipy.fftpack module.\n",
    "#    Set the `norm` parameter to 'ortho' and the `axis` parameter to 0.\n",
    "# 4. Define a quantization table as a 2D array of integers.\n",
    "#    The quantization table determines the level of compression applied to different frequency components.\n",
    "#    You can experiment with different quantization tables to achieve different levels of compression.\n",
    "# 5. Divide the DCT coefficients by the quantization table.\n",
    "#    This step quantizes the coefficients and reduces the precision of the image.\n",
    "# 6. Multiply the quantized DCT coefficients by the quantization table.\n",
    "#    This step dequantizes the coefficients and restores the precision of the image.\n",
    "# 7. Apply the inverse DCT to the modified DCT coefficients using the idct() function from the scipy.fftpack module.\n",
    "#    Set the `norm` parameter to 'ortho' and the `axis` parameter to 0.\n",
    "# 8. Display the reconstructed image using the plt.imshow() function.\n",
    "# 9. Calculate the Peak Signal-to-Noise Ratio (PSNR) between the original and reconstructed images\n",
    "#    using the PSNR() function from the skimage.metrics module.\n",
    "#    Print the PSNR value to evaluate the quality of the reconstructed image.\n",
    "\n",
    "# Make sure to import the necessary modules and functions before executing the code.\n",
    "\n",
    "# Note: The quantization table can be customized to achieve different levels of compression.\n",
    "# Higher values in the quantization table result in more compression and lower image quality,\n",
    "# while lower values result in less compression and higher image quality.\n",
    "\n",
    "# not sure if the above instructions are correct. Please check and correct them if necessary."
   ]
  },
  {
   "cell_type": "markdown",
   "metadata": {},
   "source": [
    "# Part 6 Convolutional Neural Networks "
   ]
  },
  {
   "cell_type": "code",
   "execution_count": null,
   "metadata": {},
   "outputs": [],
   "source": [
    "# Part 6 Convolutional Neural Networks\n",
    "\n",
    "# In this part, we will build a Convolutional Neural Network (CNN) for image classification.\n",
    "# The CNN will be trained on a dataset of images and will learn to classify new images into different categories.\n",
    "\n",
    "# 1. Import the necessary modules and libraries for building the CNN.\n",
    "# 2. Load the dataset of images for training and testing.\n",
    "# 3. Preprocess the images by resizing them to a fixed size and normalizing the pixel values.\n",
    "# 4. Split the dataset into training and testing sets.\n",
    "# 5. Define the architecture of the CNN.\n",
    "#    This includes specifying the number and size of convolutional layers, pooling layers, and fully connected layers.\n",
    "# 6. Compile the CNN by specifying the loss function, optimizer, and evaluation metric.\n",
    "# 7. Train the CNN on the training set.\n",
    "#    This involves feeding the training images through the network, computing the loss, and updating the network weights.\n",
    "# 8. Evaluate the performance of the trained CNN on the testing set.\n",
    "#    This involves feeding the testing images through the network and computing the accuracy.\n",
    "# 9. Optionally, fine-tune the CNN by adjusting the hyperparameters or architecture.\n",
    "# 10. Save the trained CNN model for future use.\n",
    "\n",
    "# Make sure to import the necessary modules and libraries before executing the code.\n",
    "\n",
    "# Note: Building and training a CNN can be computationally intensive.\n",
    "# It is recommended to run the code on a machine with a GPU for faster training.\n",
    "\n",
    "# not sure if the above instructions are correct. Please check and correct them if necessary."
   ]
  }
 ],
 "metadata": {
  "kernelspec": {
   "display_name": "Python 3 (ipykernel)",
   "language": "python",
   "name": "python3"
  },
  "language_info": {
   "codemirror_mode": {
    "name": "ipython",
    "version": 3
   },
   "file_extension": ".py",
   "mimetype": "text/x-python",
   "name": "python",
   "nbconvert_exporter": "python",
   "pygments_lexer": "ipython3",
   "version": "3.11.5"
  }
 },
 "nbformat": 4,
 "nbformat_minor": 5
}
