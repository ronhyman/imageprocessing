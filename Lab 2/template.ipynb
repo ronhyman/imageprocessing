{
 "cells": [
  {
   "cell_type": "code",
   "execution_count": 1,
   "id": "e2d203c8-9f46-4e75-a8af-46afffac2108",
   "metadata": {},
   "outputs": [
    {
     "data": {
      "text/plain": [
       "<Figure size 640x480 with 0 Axes>"
      ]
     },
     "metadata": {},
     "output_type": "display_data"
    }
   ],
   "source": [
    "import scipy.signal as signal\n",
    "import matplotlib.pyplot as plt\n",
    "import skimage.util\n",
    "import scipy.ndimage as ndimage\n",
    "from skimage.color import rgb2gray\n",
    "from skimage.io import imread\n",
    "import numpy as np\n",
    "import matplotlib\n",
    "\n",
    "\n",
    "plt.gray()\n",
    "lena= rgb2gray(imread('lena.tiff'))\n",
    "cameraman = imread('cameraman.tif').astype(np.float64)/255\n",
    "\n",
    "\n",
    "def gaussian_filter(n_rows, n_cols, stdv):\n",
    "    \"\"\"\n",
    "    Returns a 2d Gaussian image filter.\n",
    "    \"\"\"\n",
    "    g_r = signal.windows.gaussian(n_rows, stdv)\n",
    "    g_c = signal.windows.gaussian(n_cols, stdv)\n",
    "\n",
    "    G = np.outer(g_r, g_c)\n",
    "\n",
    "    return G/np.sum(G)\n",
    "\n",
    "def PSNR(f,g):\n",
    "    return 10*np.log10(1.0/ np.mean(np.square(f-g)))\n"
   ]
  },
  {
   "cell_type": "code",
   "execution_count": null,
   "id": "9b2ae44f",
   "metadata": {},
   "outputs": [],
   "source": [
    "# Part 2 Discrete Convolution for Image Processing"
   ]
  },
  {
   "cell_type": "code",
   "execution_count": null,
   "id": "afb6b055",
   "metadata": {},
   "outputs": [],
   "source": [
    "# Part 3 Noise Generation"
   ]
  }
 ],
 "metadata": {
  "kernelspec": {
   "display_name": "Python 3.11.5 ('syde575')",
   "language": "python",
   "name": "python3"
  },
  "language_info": {
   "codemirror_mode": {
    "name": "ipython",
    "version": 3
   },
   "file_extension": ".py",
   "mimetype": "text/x-python",
   "name": "python",
   "nbconvert_exporter": "python",
   "pygments_lexer": "ipython3",
   "version": "3.11.5"
  },
  "vscode": {
   "interpreter": {
    "hash": "53353b10f0898ec60dd234b56575348e8d7a2c4cf100e5513ec4f11fad6507d0"
   }
  }
 },
 "nbformat": 4,
 "nbformat_minor": 5
}
